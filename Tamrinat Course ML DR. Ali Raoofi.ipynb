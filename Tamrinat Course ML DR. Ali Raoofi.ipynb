{
 "cells": [
  {
   "cell_type": "markdown",
   "id": "35ab8795",
   "metadata": {},
   "source": [
    "#  Tamrin Emtiyazi"
   ]
  },
  {
   "cell_type": "markdown",
   "id": "4fa8101b",
   "metadata": {},
   "source": [
    "بردار احتمال مثبت و منفی بودن بازده روزانه سهم بانک ملت را محاسبه کنید\n",
    "\n",
    "و در ادامه\n",
    "\n",
    "\n",
    "ماتریس احتمال انتقال مثبت و منفی بودن  بازده روزانه همین سهم را در بازه 2 روز متوالی محاسبه کرده و آن را تحلیل بنمایید\n",
    "\n",
    "\n",
    "در نهایت آن را در یک دیتافریم پانداز ذخیره کنید"
   ]
  },
  {
   "cell_type": "code",
   "execution_count": 1,
   "id": "21a132ee",
   "metadata": {},
   "outputs": [],
   "source": [
    "import pandas as pd\n",
    "import numpy as np"
   ]
  },
  {
   "cell_type": "code",
   "execution_count": 4,
   "id": "d12b6581",
   "metadata": {},
   "outputs": [],
   "source": [
    "df = pd.read_excel(\"dataframe vabemelat.xlsx\")"
   ]
  },
  {
   "cell_type": "code",
   "execution_count": 9,
   "id": "d83e37e8",
   "metadata": {},
   "outputs": [],
   "source": [
    "bazdeh = df['Return'].values"
   ]
  },
  {
   "cell_type": "code",
   "execution_count": 10,
   "id": "e873a8b1",
   "metadata": {},
   "outputs": [
    {
     "data": {
      "text/plain": [
       "array([ 0.00666667, -0.00189215,  0.00473934, ...,  0.03816794,\n",
       "       -0.00980392,  0.0049505 ])"
      ]
     },
     "execution_count": 10,
     "metadata": {},
     "output_type": "execute_result"
    }
   ],
   "source": [
    "bazdeh"
   ]
  },
  {
   "cell_type": "code",
   "execution_count": 14,
   "id": "55011ea4",
   "metadata": {},
   "outputs": [],
   "source": [
    "unigram = np.zeros((2) , int)\n",
    "\n",
    "for i in range(0 , len(bazdeh)):\n",
    "    if bazdeh[i] > 0:\n",
    "        unigram[0] += 1\n",
    "    if bazdeh[i] < 0:\n",
    "        unigram[1] += 1\n",
    "        \n",
    "# [\"ehtemale mosbat budane sahm\" , \"ehtemale manfi budane sahm\"]"
   ]
  },
  {
   "cell_type": "code",
   "execution_count": 18,
   "id": "7dd3bb5e",
   "metadata": {},
   "outputs": [],
   "source": [
    "unigram = unigram / unigram.sum()"
   ]
  },
  {
   "cell_type": "code",
   "execution_count": 19,
   "id": "d2e2ccb8",
   "metadata": {},
   "outputs": [
    {
     "data": {
      "text/plain": [
       "array([0.48295004, 0.51704996])"
      ]
     },
     "execution_count": 19,
     "metadata": {},
     "output_type": "execute_result"
    }
   ],
   "source": [
    "unigram"
   ]
  },
  {
   "cell_type": "code",
   "execution_count": 27,
   "id": "3c5f4926",
   "metadata": {},
   "outputs": [],
   "source": [
    "Bigram = np.zeros([2,2] , float)"
   ]
  },
  {
   "cell_type": "code",
   "execution_count": 28,
   "id": "5eeb7756",
   "metadata": {},
   "outputs": [],
   "source": [
    "#[[+ --> +    ,   + ----> -],[- ---> +  , - ----> - ]]\n",
    "\n",
    "\n",
    "for i in range(len(bazdeh) - 1):\n",
    "    if bazdeh[i] > 0 :\n",
    "        if bazdeh[i+1] > 0: \n",
    "            Bigram[0 , 0] += 1\n",
    "        if bazdeh[i+1] < 0:\n",
    "            Bigram[0 , 1] += 1\n",
    "    if bazdeh[i] < 0:\n",
    "        if bazdeh[i+1] > 0 :\n",
    "            Bigram[1 , 0] += 1\n",
    "        if bazdeh[i+1] < 0 :\n",
    "            Bigram[1 , 1] += 1\n"
   ]
  },
  {
   "cell_type": "code",
   "execution_count": 29,
   "id": "b981b480",
   "metadata": {},
   "outputs": [],
   "source": [
    "Bigram[0] = Bigram[0] / Bigram.sum(axis = 1)[0]\n",
    "Bigram[1] = Bigram[1] / Bigram.sum(axis = 1)[1]"
   ]
  },
  {
   "cell_type": "code",
   "execution_count": 30,
   "id": "4dc75303",
   "metadata": {},
   "outputs": [
    {
     "data": {
      "text/plain": [
       "array([[0.51858108, 0.48141892],\n",
       "       [0.4826087 , 0.5173913 ]])"
      ]
     },
     "execution_count": 30,
     "metadata": {},
     "output_type": "execute_result"
    }
   ],
   "source": [
    "Bigram"
   ]
  },
  {
   "cell_type": "code",
   "execution_count": 31,
   "id": "72b88464",
   "metadata": {},
   "outputs": [
    {
     "data": {
      "text/html": [
       "<div>\n",
       "<style scoped>\n",
       "    .dataframe tbody tr th:only-of-type {\n",
       "        vertical-align: middle;\n",
       "    }\n",
       "\n",
       "    .dataframe tbody tr th {\n",
       "        vertical-align: top;\n",
       "    }\n",
       "\n",
       "    .dataframe thead th {\n",
       "        text-align: right;\n",
       "    }\n",
       "</style>\n",
       "<table border=\"1\" class=\"dataframe\">\n",
       "  <thead>\n",
       "    <tr style=\"text-align: right;\">\n",
       "      <th></th>\n",
       "      <th>+</th>\n",
       "      <th>-</th>\n",
       "    </tr>\n",
       "  </thead>\n",
       "  <tbody>\n",
       "    <tr>\n",
       "      <th>+</th>\n",
       "      <td>0.518581</td>\n",
       "      <td>0.481419</td>\n",
       "    </tr>\n",
       "    <tr>\n",
       "      <th>-</th>\n",
       "      <td>0.482609</td>\n",
       "      <td>0.517391</td>\n",
       "    </tr>\n",
       "  </tbody>\n",
       "</table>\n",
       "</div>"
      ],
      "text/plain": [
       "          +         -\n",
       "+  0.518581  0.481419\n",
       "-  0.482609  0.517391"
      ]
     },
     "execution_count": 31,
     "metadata": {},
     "output_type": "execute_result"
    }
   ],
   "source": [
    "pd.DataFrame(columns = ['+'    ,  '-'] , index = ['+'    ,  '-'] , data = Bigram)"
   ]
  },
  {
   "cell_type": "code",
   "execution_count": null,
   "id": "bd309590",
   "metadata": {},
   "outputs": [],
   "source": []
  }
 ],
 "metadata": {
  "kernelspec": {
   "display_name": "Python 3",
   "language": "python",
   "name": "python3"
  },
  "language_info": {
   "codemirror_mode": {
    "name": "ipython",
    "version": 3
   },
   "file_extension": ".py",
   "mimetype": "text/x-python",
   "name": "python",
   "nbconvert_exporter": "python",
   "pygments_lexer": "ipython3",
   "version": "3.8.8"
  }
 },
 "nbformat": 4,
 "nbformat_minor": 5
}
