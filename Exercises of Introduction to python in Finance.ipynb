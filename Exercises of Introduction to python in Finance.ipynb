{
 "cells": [
  {
   "cell_type": "markdown",
   "metadata": {},
   "source": [
    "# Tamrin 1"
   ]
  },
  {
   "cell_type": "markdown",
   "metadata": {},
   "source": [
    "یک متغیر اعشاری ایجاد نمایید"
   ]
  },
  {
   "cell_type": "markdown",
   "metadata": {},
   "source": [
    "قسمت صحیح (بدون اعشار) آن را در کنار نام خود چاپ نمایید"
   ]
  },
  {
   "cell_type": "code",
   "execution_count": 1,
   "metadata": {},
   "outputs": [
    {
     "name": "stdout",
     "output_type": "stream",
     "text": [
      "Amin25\n"
     ]
    }
   ],
   "source": [
    "Moteghayere_ashari = float(25.11)\n",
    "Moteghayere_sahih = int(Moteghayere_ashari)\n",
    "Moteghayere_reshteyi = \"Amin\"\n",
    "\n",
    "print(Moteghayere_reshteyi + str(Moteghayere_sahih))"
   ]
  },
  {
   "cell_type": "markdown",
   "metadata": {},
   "source": [
    "# Tamrin 2"
   ]
  },
  {
   "cell_type": "markdown",
   "metadata": {},
   "source": [
    "یک لیست با نام حرف اول الفبای انگلیسی تولید کنید که درایه اول آن یک عدد اعشاری درایه دوم آن یک رشته  و درایه سوم آن، یک لیست دیگر باشد"
   ]
  },
  {
   "cell_type": "code",
   "execution_count": 2,
   "metadata": {},
   "outputs": [
    {
     "name": "stdout",
     "output_type": "stream",
     "text": [
      "[11.23, 'Amin', [1, 'Aminimehr', 23.2]]\n"
     ]
    }
   ],
   "source": [
    "A = list()\n",
    "\n",
    "A_1 = float(11.23)\n",
    "A_2 = 'Amin'\n",
    "A_3 = [int(1) , 'Aminimehr' , float(23.2)]\n",
    "\n",
    "A.append(A_1)\n",
    "A.append(A_2)\n",
    "A.append(A_3)\n",
    "\n",
    "print(A)"
   ]
  },
  {
   "cell_type": "markdown",
   "metadata": {},
   "source": [
    "# Tamrin 3"
   ]
  },
  {
   "cell_type": "markdown",
   "metadata": {},
   "source": [
    " برنامه ای بنویسید که دو متغیر از کاربر دریافت نموده و عملیات های حسابی جمع، ضرب، تقسیم و... را بر اساس آنها محاسبه و در خروجی نمایش دهد"
   ]
  },
  {
   "cell_type": "code",
   "execution_count": 3,
   "metadata": {},
   "outputs": [
    {
     "name": "stdout",
     "output_type": "stream",
     "text": [
      "Lotfan Moteghayere Aval ra Vared Konid5\n",
      "Lotfan Moteghayere Dovom ra Vared Konid2\n",
      "hasele jam barabar ast ba 7.0\n",
      "hasele tafrigh barabar ast ba 3.0\n",
      "hasele zarb barabar ast ba 10.0\n",
      "hasele taghseem barabar ast ba 2.5\n"
     ]
    }
   ],
   "source": [
    "A = float(input( \"Lotfan Moteghayere Aval ra Vared Konid\" ))\n",
    "B = float(input( \"Lotfan Moteghayere Dovom ra Vared Konid\"))\n",
    "\n",
    "Hasele_Jam = A + B\n",
    "Hasele_Tafrigh = A - B\n",
    "Hasele_Zarb = A * B\n",
    "\n",
    "if B != 0 :\n",
    "    Hasele_taghseem = A / B\n",
    "    print(\"hasele jam barabar ast ba \" + str(Hasele_Jam))\n",
    "    print(\"hasele tafrigh barabar ast ba \" + str(Hasele_Tafrigh))\n",
    "    print(\"hasele zarb barabar ast ba \" + str(Hasele_Zarb))\n",
    "    print(\"hasele taghseem barabar ast ba \" + str(Hasele_taghseem))\n",
    "\n",
    "else:\n",
    "    print(\"hasele jam barabar ast ba \" + str(Hasele_Jam))\n",
    "    print(\"hasele tafrigh barabar ast ba \" + str(Hasele_Tafrigh))\n",
    "    print(\"hasele zarb barabar ast ba \" + str(Hasele_Zarb))\n",
    "    print(\" Adad taghseem bar sefr mani nadarad\")"
   ]
  },
  {
   "cell_type": "markdown",
   "metadata": {},
   "source": [
    "# Tamrin 4"
   ]
  },
  {
   "cell_type": "markdown",
   "metadata": {},
   "source": [
    "با استفاده از توابعی که تاکنون داشته‌ایم، لیستی با نام حرف اول الفبای انگلیسی شامل اعداد زوج بین صفر تا چهل تولید نماید و آن را در خروجی نمایش دهید"
   ]
  },
  {
   "cell_type": "markdown",
   "metadata": {},
   "source": [
    "آیا می‌توانید تابعی پیدا کنید که آنها را از بزرگ به کوچک در یک لیست با نام حرف دوم الفبای انگلییسی "
   ]
  },
  {
   "cell_type": "code",
   "execution_count": 4,
   "metadata": {},
   "outputs": [
    {
     "name": "stdout",
     "output_type": "stream",
     "text": [
      "[0, 2, 4, 6, 8, 10, 12, 14, 16, 18, 20, 22, 24, 26, 28, 30, 32, 34, 36, 38, 40]\n"
     ]
    }
   ],
   "source": [
    "A = list( range(0 , 41 , 2) )\n",
    "print(A)"
   ]
  },
  {
   "cell_type": "code",
   "execution_count": 5,
   "metadata": {},
   "outputs": [
    {
     "name": "stdout",
     "output_type": "stream",
     "text": [
      "[0, 2, 4, 6, 8, 10, 12, 14, 16, 18, 20, 22, 24, 26, 28, 30, 32, 34, 36, 38, 40]\n"
     ]
    }
   ],
   "source": [
    "AA = list()\n",
    "ozv_AA = 0\n",
    "for i in range(0 , 21):\n",
    "    AA.append(ozv_AA)\n",
    "    ozv_AA = ozv_AA + 2\n",
    "    \n",
    "print(AA)"
   ]
  },
  {
   "cell_type": "code",
   "execution_count": 6,
   "metadata": {},
   "outputs": [
    {
     "name": "stdout",
     "output_type": "stream",
     "text": [
      "[40, 38, 36, 34, 32, 30, 28, 26, 24, 22, 20, 18, 16, 14, 12, 10, 8, 6, 4, 2, 0]\n"
     ]
    }
   ],
   "source": [
    "B = list( range(40 , -1 , -2) )\n",
    "print(B)"
   ]
  },
  {
   "cell_type": "markdown",
   "metadata": {},
   "source": [
    "# Tamrin bonus (Find the largest value of a given list)"
   ]
  },
  {
   "cell_type": "code",
   "execution_count": 7,
   "metadata": {},
   "outputs": [
    {
     "name": "stdout",
     "output_type": "stream",
     "text": [
      "121\n"
     ]
    }
   ],
   "source": [
    "ABC = [23,4,12,34,56,78,101,3,4,8,3,0,12,121,34]\n",
    "index = -1000000000000000\n",
    "for i in range(0 , len(ABC)):\n",
    "    if ABC[i] > index :\n",
    "        index = ABC[i]\n",
    "print(index)"
   ]
  },
  {
   "cell_type": "markdown",
   "metadata": {},
   "source": [
    "# Tmarin 5"
   ]
  },
  {
   "cell_type": "markdown",
   "metadata": {},
   "source": [
    "برنامه‌ای بنویسید که اسم سهم را از کاربر بپرسد و در صورتی که نام آن در دیکشنری که از قبل در برنامه تعریف شده است بود، نام سهم را در کنار بازده آن چاپ نماید. همینطور بررسی نماید، در صورتی که بازده سهم انتخابی بالاتر از بازدهی سایر سهم‌های دیکشنری بود، عبارت خرید و در صورتی که پایین تر بود عبارت فروش را چاپ نماید"
   ]
  },
  {
   "cell_type": "code",
   "execution_count": 10,
   "metadata": {},
   "outputs": [
    {
     "name": "stdout",
     "output_type": "stream",
     "text": [
      "lotfan esme sahmi ra vared namayid!!!shepna\n",
      "sahme vared shode dar sabade saham mojud nemibashad\n"
     ]
    }
   ],
   "source": [
    "sabade_saham = {'vabemelat' : 20 , 'khesapa':30 , 'khodro' :10 , 'khetur': 50}\n",
    "sahme_karbar = str(input('lotfan esme sahmi ra vared namayid!!!'))\n",
    "if sahme_karbar in sabade_saham:\n",
    "    print(sahme_karbar , sabade_saham[sahme_karbar])\n",
    "    if sabade_saham[sahme_karbar] == max(sabade_saham.values()):\n",
    "        print('Buy')\n",
    "    elif sabade_saham[sahme_karbar] == min(sabade_saham.values()):\n",
    "        print('Sell')\n",
    "    else:\n",
    "        print('sahme morede nazar na khub ast na bad tasmim ba karbar')\n",
    "else:\n",
    "    print('sahme vared shode dar sabade saham mojud nemibashad')"
   ]
  },
  {
   "cell_type": "markdown",
   "metadata": {},
   "source": [
    "# Tamrin 6"
   ]
  },
  {
   "cell_type": "markdown",
   "metadata": {},
   "source": [
    "برنامه ای بنویسید که کاربر یک عدد صحیح بین 100 و -100 وارد کند و کامپیوتر با استفاده از یک عملیاتی تکراری و با استفاده از تابع رندوم از یک مبدا تصادفی شروع به جستجو نماید و مقدار وارد شده توسط کاربر را پیدا کند\n",
    "همچنین در خروجی، عدد وارد شده توسط کاربر و همینطور تعداد تکرار برای پیدا کردن جواب صحیح را چاپ نماید "
   ]
  },
  {
   "cell_type": "code",
   "execution_count": 20,
   "metadata": {},
   "outputs": [
    {
     "data": {
      "text/plain": [
       "9"
      ]
     },
     "execution_count": 20,
     "metadata": {},
     "output_type": "execute_result"
    }
   ],
   "source": [
    "import random\n",
    "random.randint(-100,100)"
   ]
  },
  {
   "cell_type": "code",
   "execution_count": 22,
   "metadata": {},
   "outputs": [
    {
     "name": "stdout",
     "output_type": "stream",
     "text": [
      "lotfan yek adad beine -100 , 100 vared namayid80\n",
      "-59 \n",
      "\n",
      "-21 \n",
      "\n",
      "-76 \n",
      "\n",
      "63 \n",
      "\n",
      "69 \n",
      "\n",
      "55 \n",
      "\n",
      "-90 \n",
      "\n",
      "58 \n",
      "\n",
      "3 \n",
      "\n",
      "-54 \n",
      "\n",
      "-93 \n",
      "\n",
      "-33 \n",
      "\n",
      "-56 \n",
      "\n",
      "69 \n",
      "\n",
      "-14 \n",
      "\n",
      "60 \n",
      "\n",
      "26 \n",
      "\n",
      "85 \n",
      "\n",
      "93 \n",
      "\n",
      "34 \n",
      "\n",
      "80 \n",
      "\n",
      "teye  21 tekrar josteju, adade karbar yaft shod \n",
      " adade vared shode tavasote karbar 80  bude ast!!!\n"
     ]
    }
   ],
   "source": [
    "adade_e_karbar = int(input(\"lotfan yek adad beine -100 , 100 vared namayid\"))\n",
    "if adade_e_karbar > 100 or adade_e_karbar < -100:\n",
    "    #sharte vuru be while\n",
    "    flag = 1\n",
    "    while flag == 1:\n",
    "        adade_e_karbar = int(input(\"adade vared shode dar mahdudeye khaste shode nist, lotfan deghat farmayid\"))\n",
    "        if adade_e_karbar > 100 or adade_e_karbar < -100:\n",
    "            flag = 1\n",
    "        else: \n",
    "            flag = 0\n",
    "\n",
    "            \n",
    "import random\n",
    "\n",
    "shomarande_tekrare_josteju = 0\n",
    "flag_flag = 0\n",
    "while flag_flag == 0:\n",
    "    adad_random = random.randint(-100,100)\n",
    "    print(adad_random , '\\n')\n",
    "    shomarande_tekrare_josteju = shomarande_tekrare_josteju + 1\n",
    "    if adad_random == adade_e_karbar:\n",
    "        flag_flag = 1\n",
    "print(\"teye \" , shomarande_tekrare_josteju , \"tekrar josteju, adade karbar yaft shod\" , '\\n' , 'adade vared shode tavasote karbar' ,\n",
    "     adade_e_karbar , ' bude ast!!!')"
   ]
  },
  {
   "cell_type": "markdown",
   "metadata": {},
   "source": [
    "# Tamrin bonus (Find the second largest value of a given list)"
   ]
  },
  {
   "cell_type": "code",
   "execution_count": 30,
   "metadata": {},
   "outputs": [
    {
     "name": "stdout",
     "output_type": "stream",
     "text": [
      "101\n"
     ]
    }
   ],
   "source": [
    "ABC = [23,4,12,34,56,78,101,3,4,8,3,0,12,121,34,121 ]\n",
    "index = -1000000000000000\n",
    "for i in range(0 , len(ABC)):\n",
    "    if ABC[i] > index :\n",
    "        index = ABC[i]\n",
    "\n",
    "ABC.remove(index)\n",
    "while index in ABC:\n",
    "    ABC.remove(index)\n",
    "\n",
    "index = -1000000000000000\n",
    "for i in range(0 , len(ABC)):\n",
    "    if ABC[i] > index :\n",
    "        index = ABC[i]\n",
    "print(index)"
   ]
  }
 ],
 "metadata": {
  "kernelspec": {
   "display_name": "Python 3",
   "language": "python",
   "name": "python3"
  },
  "language_info": {
   "codemirror_mode": {
    "name": "ipython",
    "version": 3
   },
   "file_extension": ".py",
   "mimetype": "text/x-python",
   "name": "python",
   "nbconvert_exporter": "python",
   "pygments_lexer": "ipython3",
   "version": "3.7.7"
  }
 },
 "nbformat": 4,
 "nbformat_minor": 4
}
