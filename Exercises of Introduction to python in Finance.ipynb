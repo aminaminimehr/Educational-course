{
 "cells": [
  {
   "cell_type": "markdown",
   "metadata": {},
   "source": [
    "# Tamrin 1"
   ]
  },
  {
   "cell_type": "markdown",
   "metadata": {},
   "source": [
    "یک متغیر اعشاری ایجاد نمایید"
   ]
  },
  {
   "cell_type": "markdown",
   "metadata": {},
   "source": [
    "قسمت صحیح (بدون اعشار) آن را در کنار نام خود چاپ نمایید"
   ]
  },
  {
   "cell_type": "code",
   "execution_count": 5,
   "metadata": {},
   "outputs": [
    {
     "name": "stdout",
     "output_type": "stream",
     "text": [
      "Amin25\n"
     ]
    }
   ],
   "source": [
    "Moteghayere_ashari = float(25.11)\n",
    "Moteghayere_sahih = int(Moteghayere_ashari)\n",
    "Moteghayere_reshteyi = \"Amin\"\n",
    "\n",
    "print(Moteghayere_reshteyi + str(Moteghayere_sahih))"
   ]
  },
  {
   "cell_type": "markdown",
   "metadata": {},
   "source": [
    "# Tamrin 2"
   ]
  },
  {
   "cell_type": "markdown",
   "metadata": {},
   "source": [
    "یک لیست با نام حرف اول الفبای انگلیسی تولید کنید که درایه اول آن یک عدد اعشاری درایه دوم آن یک رشته  و درایه سوم آن، یک لیست دیگر باشد"
   ]
  },
  {
   "cell_type": "code",
   "execution_count": 13,
   "metadata": {},
   "outputs": [
    {
     "name": "stdout",
     "output_type": "stream",
     "text": [
      "[11.23, 'Amin', [1, 'Aminimehr', 23.2]]\n"
     ]
    }
   ],
   "source": [
    "A = list()\n",
    "\n",
    "A_1 = float(11.23)\n",
    "A_2 = 'Amin'\n",
    "A_3 = [int(1) , 'Aminimehr' , float(23.2)]\n",
    "\n",
    "A.append(A_1)\n",
    "A.append(A_2)\n",
    "A.append(A_3)\n",
    "\n",
    "print(A)"
   ]
  },
  {
   "cell_type": "markdown",
   "metadata": {},
   "source": [
    "# Tamrin 3"
   ]
  },
  {
   "cell_type": "markdown",
   "metadata": {},
   "source": [
    " برنامه ای بنویسید که دو متغیر از کاربر دریافت نموده و عملیات های حسابی جمع، ضرب، تقسیم و... را بر اساس آنها محاسبه و در خروجی نمایش دهد"
   ]
  },
  {
   "cell_type": "code",
   "execution_count": 16,
   "metadata": {},
   "outputs": [
    {
     "name": "stdout",
     "output_type": "stream",
     "text": [
      "Lotfan Moteghayere Aval ra Vared Konid6\n",
      "Lotfan Moteghayere Dovom ra Vared Konid3\n",
      "hasele jam barabar ast ba 9.0\n",
      "hasele tafrigh barabar ast ba 3.0\n",
      "hasele zarb barabar ast ba 18.0\n",
      "hasele taghseem barabar ast ba 2.0\n"
     ]
    }
   ],
   "source": [
    "A = float(input( \"Lotfan Moteghayere Aval ra Vared Konid\" ))\n",
    "B = float(input( \"Lotfan Moteghayere Dovom ra Vared Konid\"))\n",
    "\n",
    "Hasele_Jam = A + B\n",
    "Hasele_Tafrigh = A - B\n",
    "Hasele_Zarb = A * B\n",
    "\n",
    "if B != 0 :\n",
    "    Hasele_taghseem = A / B\n",
    "    print(\"hasele jam barabar ast ba \" + str(Hasele_Jam))\n",
    "    print(\"hasele tafrigh barabar ast ba \" + str(Hasele_Tafrigh))\n",
    "    print(\"hasele zarb barabar ast ba \" + str(Hasele_Zarb))\n",
    "    print(\"hasele taghseem barabar ast ba \" + str(Hasele_taghseem))\n",
    "\n",
    "else:\n",
    "    print(\"hasele jam barabar ast ba \" + str(Hasele_Jam))\n",
    "    print(\"hasele tafrigh barabar ast ba \" + str(Hasele_Tafrigh))\n",
    "    print(\"hasele zarb barabar ast ba \" + str(Hasele_Zarb))\n",
    "    print(\" Adad taghseem bar sefr mani nadarad\")"
   ]
  },
  {
   "cell_type": "markdown",
   "metadata": {},
   "source": [
    "# Tamrin 4"
   ]
  },
  {
   "cell_type": "markdown",
   "metadata": {},
   "source": [
    "با استفاده از توابعی که تاکنون داشته‌ایم، لیستی با نام حرف اول الفبای انگلیسی شامل اعداد زوج بین صفر تا چهل تولید نماید و آن را در خروجی نمایش دهید"
   ]
  },
  {
   "cell_type": "markdown",
   "metadata": {},
   "source": [
    "آیا می‌توانید تابعی پیدا کنید که آنها را از بزرگ به کوچک در یک لیست با نام حرف دوم الفبای انگلییسی "
   ]
  },
  {
   "cell_type": "code",
   "execution_count": 20,
   "metadata": {},
   "outputs": [
    {
     "name": "stdout",
     "output_type": "stream",
     "text": [
      "[0, 2, 4, 6, 8, 10, 12, 14, 16, 18, 20, 22, 24, 26, 28, 30, 32, 34, 36, 38, 40]\n"
     ]
    }
   ],
   "source": [
    "A = list( range(0 , 41 , 2) )\n",
    "print(A)"
   ]
  },
  {
   "cell_type": "code",
   "execution_count": 25,
   "metadata": {},
   "outputs": [
    {
     "name": "stdout",
     "output_type": "stream",
     "text": [
      "[0, 2, 4, 6, 8, 10, 12, 14, 16, 18, 20, 22, 24, 26, 28, 30, 32, 34, 36, 38, 40]\n"
     ]
    }
   ],
   "source": [
    "AA = list()\n",
    "ozv_AA = 0\n",
    "for i in range(0 , 21):\n",
    "    AA.append(ozv_AA)\n",
    "    ozv_AA = ozv_AA + 2\n",
    "    \n",
    "print(AA)"
   ]
  },
  {
   "cell_type": "code",
   "execution_count": 26,
   "metadata": {},
   "outputs": [
    {
     "name": "stdout",
     "output_type": "stream",
     "text": [
      "[40, 38, 36, 34, 32, 30, 28, 26, 24, 22, 20, 18, 16, 14, 12, 10, 8, 6, 4, 2, 0]\n"
     ]
    }
   ],
   "source": [
    "B = list( range(40 , -1 , -2) )\n",
    "print(B)"
   ]
  },
  {
   "cell_type": "markdown",
   "metadata": {},
   "source": [
    "# Tamrin bonus (Find the largest value of a given list)"
   ]
  },
  {
   "cell_type": "code",
   "execution_count": 29,
   "metadata": {},
   "outputs": [
    {
     "name": "stdout",
     "output_type": "stream",
     "text": [
      "121\n"
     ]
    }
   ],
   "source": [
    "ABC = [23,4,12,34,56,78,101,3,4,8,3,0,12,121,34]\n",
    "index = -1000000000000000\n",
    "for i in range(0 , len(ABC)):\n",
    "    if ABC[i] > index :\n",
    "        index = ABC[i]\n",
    "print(index)"
   ]
  },
  {
   "cell_type": "code",
   "execution_count": 28,
   "metadata": {},
   "outputs": [
    {
     "data": {
      "text/plain": [
       "15"
      ]
     },
     "execution_count": 28,
     "metadata": {},
     "output_type": "execute_result"
    }
   ],
   "source": []
  },
  {
   "cell_type": "code",
   "execution_count": null,
   "metadata": {},
   "outputs": [],
   "source": []
  }
 ],
 "metadata": {
  "kernelspec": {
   "display_name": "Python 3",
   "language": "python",
   "name": "python3"
  },
  "language_info": {
   "codemirror_mode": {
    "name": "ipython",
    "version": 3
   },
   "file_extension": ".py",
   "mimetype": "text/x-python",
   "name": "python",
   "nbconvert_exporter": "python",
   "pygments_lexer": "ipython3",
   "version": "3.7.7"
  }
 },
 "nbformat": 4,
 "nbformat_minor": 4
}
