{
 "cells": [
  {
   "cell_type": "markdown",
   "metadata": {},
   "source": [
    "# Tamrin 1"
   ]
  },
  {
   "cell_type": "markdown",
   "metadata": {},
   "source": [
    "یک متغیر اعشاری ایجاد نمایید"
   ]
  },
  {
   "cell_type": "markdown",
   "metadata": {},
   "source": [
    "قسمت صحیح (بدون اعشار) آن را در کنار نام خود چاپ نمایید"
   ]
  },
  {
   "cell_type": "code",
   "execution_count": null,
   "metadata": {},
   "outputs": [],
   "source": [
    "Moteghayere_ashari = float(25.11)\n",
    "Moteghayere_sahih = int(Moteghayere_ashari)\n",
    "Moteghayere_reshteyi = \"Amin\"\n",
    "\n",
    "print(Moteghayere_reshteyi + str(Moteghayere_sahih))"
   ]
  },
  {
   "cell_type": "markdown",
   "metadata": {},
   "source": [
    "# Tamrin 2"
   ]
  },
  {
   "cell_type": "markdown",
   "metadata": {},
   "source": [
    "یک لیست با نام حرف اول الفبای انگلیسی تولید کنید که درایه اول آن یک عدد اعشاری درایه دوم آن یک رشته  و درایه سوم آن، یک لیست دیگر باشد"
   ]
  },
  {
   "cell_type": "code",
   "execution_count": null,
   "metadata": {},
   "outputs": [],
   "source": [
    "A = list()\n",
    "\n",
    "A_1 = float(11.23)\n",
    "A_2 = 'Amin'\n",
    "A_3 = [int(1) , 'Aminimehr' , float(23.2)]\n",
    "\n",
    "A.append(A_1)\n",
    "A.append(A_2)\n",
    "A.append(A_3)\n",
    "\n",
    "print(A)"
   ]
  },
  {
   "cell_type": "markdown",
   "metadata": {},
   "source": [
    "# Tamrin 3"
   ]
  },
  {
   "cell_type": "markdown",
   "metadata": {},
   "source": [
    " برنامه ای بنویسید که دو متغیر از کاربر دریافت نموده و عملیات های حسابی جمع، ضرب، تقسیم و... را بر اساس آنها محاسبه و در خروجی نمایش دهد"
   ]
  },
  {
   "cell_type": "code",
   "execution_count": null,
   "metadata": {},
   "outputs": [],
   "source": [
    "A = float(input( \"Lotfan Moteghayere Aval ra Vared Konid\" ))\n",
    "B = float(input( \"Lotfan Moteghayere Dovom ra Vared Konid\"))\n",
    "\n",
    "Hasele_Jam = A + B\n",
    "Hasele_Tafrigh = A - B\n",
    "Hasele_Zarb = A * B\n",
    "\n",
    "if B != 0 :\n",
    "    Hasele_taghseem = A / B\n",
    "    print(\"hasele jam barabar ast ba \" + str(Hasele_Jam))\n",
    "    print(\"hasele tafrigh barabar ast ba \" + str(Hasele_Tafrigh))\n",
    "    print(\"hasele zarb barabar ast ba \" + str(Hasele_Zarb))\n",
    "    print(\"hasele taghseem barabar ast ba \" + str(Hasele_taghseem))\n",
    "\n",
    "else:\n",
    "    print(\"hasele jam barabar ast ba \" + str(Hasele_Jam))\n",
    "    print(\"hasele tafrigh barabar ast ba \" + str(Hasele_Tafrigh))\n",
    "    print(\"hasele zarb barabar ast ba \" + str(Hasele_Zarb))\n",
    "    print(\" Adad taghseem bar sefr mani nadarad\")"
   ]
  },
  {
   "cell_type": "markdown",
   "metadata": {},
   "source": [
    "# Tamrin 4"
   ]
  },
  {
   "cell_type": "markdown",
   "metadata": {},
   "source": [
    "با استفاده از توابعی که تاکنون داشته‌ایم، لیستی با نام حرف اول الفبای انگلیسی شامل اعداد زوج بین صفر تا چهل تولید نماید و آن را در خروجی نمایش دهید"
   ]
  },
  {
   "cell_type": "markdown",
   "metadata": {},
   "source": [
    "آیا می‌توانید تابعی پیدا کنید که آنها را از بزرگ به کوچک در یک لیست با نام حرف دوم الفبای انگلییسی "
   ]
  },
  {
   "cell_type": "code",
   "execution_count": null,
   "metadata": {},
   "outputs": [],
   "source": [
    "A = list( range(0 , 41 , 2) )\n",
    "print(A)"
   ]
  },
  {
   "cell_type": "code",
   "execution_count": null,
   "metadata": {},
   "outputs": [],
   "source": [
    "AA = list()\n",
    "ozv_AA = 0\n",
    "for i in range(0 , 21):\n",
    "    AA.append(ozv_AA)\n",
    "    ozv_AA = ozv_AA + 2\n",
    "    \n",
    "print(AA)"
   ]
  },
  {
   "cell_type": "code",
   "execution_count": null,
   "metadata": {},
   "outputs": [],
   "source": [
    "B = list( range(40 , -1 , -2) )\n",
    "print(B)"
   ]
  },
  {
   "cell_type": "markdown",
   "metadata": {},
   "source": [
    "# Tamrin bonus (Find the largest value of a given list)"
   ]
  },
  {
   "cell_type": "code",
   "execution_count": null,
   "metadata": {},
   "outputs": [],
   "source": [
    "ABC = [23,4,12,34,56,78,101,3,4,8,3,0,12,121,34]\n",
    "index = -1000000000000000\n",
    "for i in range(0 , len(ABC)):\n",
    "    if ABC[i] > index :\n",
    "        index = ABC[i]\n",
    "print(index)"
   ]
  },
  {
   "cell_type": "markdown",
   "metadata": {},
   "source": [
    "# Tmarin 5"
   ]
  },
  {
   "cell_type": "markdown",
   "metadata": {},
   "source": [
    "برنامه‌ای بنویسید که اسم سهم را از کاربر بپرسد و در صورتی که نام آن در دیکشنری که از قبل در برنامه تعریف شده است بود، نام سهم را در کنار بازده آن چاپ نماید. همینطور بررسی نماید، در صورتی که بازده سهم انتخابی بالاتر از بازدهی سایر سهم‌های دیکشنری بود، عبارت خرید و در صورتی که پایین تر بود عبارت فروش را چاپ نماید"
   ]
  },
  {
   "cell_type": "code",
   "execution_count": null,
   "metadata": {},
   "outputs": [],
   "source": [
    "sabade_saham = {'vabemelat' : 20 , 'khesapa':30 , 'khodro' :10 , 'khetur': 50}\n",
    "sahme_karbar = str(input('lotfan esme sahmi ra vared namayid!!!'))\n",
    "if sahme_karbar in sabade_saham:\n",
    "    print(sahme_karbar , sabade_saham[sahme_karbar])\n",
    "    if sabade_saham[sahme_karbar] == max(sabade_saham.values()):\n",
    "        print('Buy')\n",
    "    elif sabade_saham[sahme_karbar] == min(sabade_saham.values()):\n",
    "        print('Sell')\n",
    "    else:\n",
    "        print('sahme morede nazar na khub ast na bad tasmim ba karbar')\n",
    "else:\n",
    "    print('sahme vared shode dar sabade saham mojud nemibashad')"
   ]
  },
  {
   "cell_type": "markdown",
   "metadata": {},
   "source": [
    "# Tamrin 6"
   ]
  },
  {
   "cell_type": "markdown",
   "metadata": {},
   "source": [
    "برنامه ای بنویسید که کاربر یک عدد صحیح بین 100 و -100 وارد کند و کامپیوتر با استفاده از یک عملیاتی تکراری و با استفاده از تابع رندوم از یک مبدا تصادفی شروع به جستجو نماید و مقدار وارد شده توسط کاربر را پیدا کند\n",
    "همچنین در خروجی، عدد وارد شده توسط کاربر و همینطور تعداد تکرار برای پیدا کردن جواب صحیح را چاپ نماید "
   ]
  },
  {
   "cell_type": "code",
   "execution_count": null,
   "metadata": {},
   "outputs": [],
   "source": [
    "import random\n",
    "random.randint(-100,100)"
   ]
  },
  {
   "cell_type": "code",
   "execution_count": null,
   "metadata": {},
   "outputs": [],
   "source": [
    "adade_e_karbar = int(input(\"lotfan yek adad beine -100 , 100 vared namayid\"))\n",
    "if adade_e_karbar > 100 or adade_e_karbar < -100:\n",
    "    #sharte vuru be while\n",
    "    flag = 1\n",
    "    while flag == 1:\n",
    "        adade_e_karbar = int(input(\"adade vared shode dar mahdudeye khaste shode nist, lotfan deghat farmayid\"))\n",
    "        if adade_e_karbar > 100 or adade_e_karbar < -100:\n",
    "            flag = 1\n",
    "        else: \n",
    "            flag = 0\n",
    "\n",
    "            \n",
    "import random\n",
    "\n",
    "shomarande_tekrare_josteju = 0\n",
    "flag_flag = 0\n",
    "while flag_flag == 0:\n",
    "    adad_random = random.randint(-100,100)\n",
    "    print(adad_random , '\\n')\n",
    "    shomarande_tekrare_josteju = shomarande_tekrare_josteju + 1\n",
    "    if adad_random == adade_e_karbar:\n",
    "        flag_flag = 1\n",
    "print(\"teye \" , shomarande_tekrare_josteju , \"tekrar josteju, adade karbar yaft shod\" , '\\n' , 'adade vared shode tavasote karbar' ,\n",
    "     adade_e_karbar , ' bude ast!!!')"
   ]
  },
  {
   "cell_type": "markdown",
   "metadata": {},
   "source": [
    "# Tamrin bonus (Find the second largest value of a given list)"
   ]
  },
  {
   "cell_type": "code",
   "execution_count": null,
   "metadata": {},
   "outputs": [],
   "source": [
    "ABC = [23,4,12,34,56,78,101,3,4,8,3,0,12,121,34,121 ]\n",
    "index = -1000000000000000\n",
    "for i in range(0 , len(ABC)):\n",
    "    if ABC[i] > index :\n",
    "        index = ABC[i]\n",
    "\n",
    "ABC.remove(index)\n",
    "while index in ABC:\n",
    "    ABC.remove(index)\n",
    "\n",
    "index = -1000000000000000\n",
    "for i in range(0 , len(ABC)):\n",
    "    if ABC[i] > index :\n",
    "        index = ABC[i]\n",
    "print(index)"
   ]
  },
  {
   "cell_type": "markdown",
   "metadata": {},
   "source": [
    "# Tamrin 7"
   ]
  },
  {
   "cell_type": "markdown",
   "metadata": {},
   "source": [
    "برنامه‌ای بنویسید که اطلاعاتی از چند سهم شامل «نام، صنعت، قیمت، بازده» را از کاربر دریافت کرده و موارد زیر را لحاظ نماید؛\n",
    "\n",
    "۱- تعداد سهم‌های مورد نظر برای ورود اطلاعات را از کاربر بپرسد و سپس اقدام به دریافت اطلاعات نماید\n",
    "\n",
    "۲- اگر نام سهم وارد شده تکراری باشد، به کاربر پیغام دهد که این سهم قبلا وارد شده است و «ادامه داده‌ها را دریافت نماید».\n",
    "\n",
    "۳- لیستی از نام دارایی‌ها ایجاد نماید.\n",
    "\n",
    "۴- در خروجی نشان دهد که سهم‌های وارد شده از چه صنایعی است و فراوانی سهم‌های هر صنعت به چه صورت است، به طور مثال؛\n",
    "\n",
    "Shimiaee: 3\n",
    "Khodro: 2\n",
    "Darooe: 1\n",
    "\n",
    "۵- ساختار اطلاعات وارد شده به نحوی باشد که بتوان با ورود نام هر دارایی اطلاعات آن برای کاربر نمایش داده شود."
   ]
  },
  {
   "cell_type": "code",
   "execution_count": null,
   "metadata": {},
   "outputs": [],
   "source": [
    "tedade_sahme_ha = int(input(\"lotfan tedade sahm haye morede nazaretan ra vared konid\"))\n",
    "\n",
    "counter = 1\n",
    "list_sahm_ha = []\n",
    "list_sanat_ha = []\n",
    "list_bazdeh_ha = []\n",
    "list_gheymat_ha = []\n",
    "\n",
    "list_sanat_unique = []\n",
    "\n",
    "while len(list_sahm_ha) < tedade_sahme_ha:\n",
    "    esm_sahm = str(input(\"Lotfan esm sahm shomare \" + str(counter) + \" ra vared namayid\"))\n",
    "    if esm_sahm in list_sahm_ha:\n",
    "        print(\" ghablan een sahm vared shode ast, dobare emtehan konid!! \")\n",
    "    if esm_sahm not in list_sahm_ha:\n",
    "        list_sahm_ha.append(esm_sahm)\n",
    "        gheymat_sahm = int(input(\"Lotfan gheymate sahm shomare \" + str(counter) + \" ra vared namayid\"))\n",
    "        list_gheymat_ha.append(gheymat_sahm)\n",
    "        bazdehe_sahm = float(input(\"Lotfan bazdehe sahm shomare \" + str(counter) + \" ra vared namayid\"))\n",
    "        list_bazdeh_ha.append(bazdehe_sahm)\n",
    "        sanat_e_sahm = str(input(\"Lotfan sanate sahm shomare \" + str(counter) + \" ra vared namayid\"))\n",
    "        list_sanat_ha.append(sanat_e_sahm)\n",
    "        counter = counter + 1\n",
    "        if sanat_e_sahm not in list_sanat_unique:\n",
    "            list_sanat_unique.append(sanat_e_sahm)\n",
    "\n",
    "tedade_sahmhaye_har_sanat = []\n",
    "for i in list_sanat_unique:\n",
    "    unique = list_sanat_ha.count(i)\n",
    "    tedade_sahmhaye_har_sanat.append(unique)\n",
    "\n",
    "\n",
    "for j in range(len(list_sanat_unique)):\n",
    "    print(str(list_sanat_unique[j]) + \" : \" + str(tedade_sahmhaye_har_sanat[j]) , '\\n')\n",
    "    \n",
    "flag = 0\n",
    "while flag == 0:\n",
    "    sahme_morede_josteju = str(input('etelaate che sahmi ra mikhahin ? '))\n",
    "    jaygahe_sahme_morede_nazar = list_sahm_ha.index(sahme_morede_josteju)\n",
    "    print(\"sanate sahme vared shode \" +  str(list_sanat_ha[jaygahe_sahme_morede_nazar]) + \"mibashad\")\n",
    "    print(\"gheymat sahme vared shode \" +  str(list_gheymat_ha[jaygahe_sahme_morede_nazar]) + \"mibashad\")\n",
    "    print(\"bazdehe sahme vared shode \" +  str(list_bazdeh_ha[jaygahe_sahme_morede_nazar]) + \"mibashad\")"
   ]
  },
  {
   "cell_type": "markdown",
   "metadata": {},
   "source": [
    "# Raveshe nested Dictionary (baraye masale 7)"
   ]
  },
  {
   "cell_type": "code",
   "execution_count": null,
   "metadata": {},
   "outputs": [],
   "source": [
    "tedade_sahme_ha = int(input(\"lotfan tedade sahm haye morede nazaretan ra vared konid\"))\n",
    "\n",
    "data_saham = {}  \n",
    "list_sahm_ha = []\n",
    "counter = 1\n",
    "while len(list_sahm_ha) < tedade_sahme_ha:\n",
    "    esm_sahm = str(input(\"Lotfan esm sahm shomare \" + str(counter) + \" ra vared namayid\"))\n",
    "    if esm_sahm in list_sahm_ha:\n",
    "        print(\" ghablan een sahm vared shode ast, dobare emtehan konid!! \")\n",
    "    else:\n",
    "        sanat_e_sahm = str(input(\"Lotfan sanate sahm shomare \" + str(counter) + \" ra vared namayid\"))\n",
    "        if sanat_e_sahm  not in data_saham:\n",
    "            data_saham[str(sanat_e_sahm)] = {}\n",
    "        data_saham[str(sanat_e_sahm)][str(esm_sahm)] = {}\n",
    "        data_saham[str(sanat_e_sahm)][str(esm_sahm)]['gheymat sahm'] = int(input(\"Lotfan gheymate sahm shomare \" + str(counter) + \" ra vared namayid\"))\n",
    "        data_saham[str(sanat_e_sahm)][str(esm_sahm)]['bazdehe sahm'] = float(input(\"Lotfan bazdehe sahm shomare \" + str(counter) + \" ra vared namayid\"))\n",
    "        list_sahm_ha.append(esm_sahm)\n",
    "        counter +=1\n",
    "\n",
    "for i in data_saham.keys():\n",
    "    print(i , \" : \" , len(data_saham[i]))\n",
    "\n",
    "flag = 0\n",
    "while flag == 0:\n",
    "    sahme_morede_josteju = str(input('etelaate che sahmi ra mikhahin ? '))\n",
    "    for j in data_saham.keys():\n",
    "        if sahme_morede_josteju in data_saham[j]:\n",
    "            print(\"sanate sahm \" + str(j) + \" \" + str(data_saham[j][sahme_morede_josteju]))"
   ]
  },
  {
   "cell_type": "markdown",
   "metadata": {},
   "source": [
    "# Tamrin 8 "
   ]
  },
  {
   "cell_type": "markdown",
   "metadata": {},
   "source": [
    "تابعی بنویسید که با دریافت قیمت‌های  .\n",
    "\n",
    "Open, Close, High و Low\n",
    "\n",
    "به عنوان ورودی، مشخص کند که آیا کندل وارد شده از یکی از الگوهای زیر پیروی می‌کند یا خیر\n",
    "\n",
    "Hammer\n",
    "\n",
    "Shooting star\n",
    "\n",
    "Hanging man\n",
    "\n",
    "همچنین می‌توانید قیمت \n",
    "\n",
    "Close\n",
    "روزهای گذشته را به عنوان ورودی در نظر بگیرید تا نتایج واقعی‌تر باشد\n",
    "\n",
    " \n",
    " \n",
    "در صورت تمایل می‌توانید سایر الگوهای کندلی را نیز به برنامه اضافه کنید\n",
    "\n",
    "\n",
    "همچنین در نهایت بر اساس الگوی شکل گرفته، «نوع کندل» و توصیه «خرید» یا «فروش» بر اساس الگو را در خروجی چاپ شود"
   ]
  },
  {
   "cell_type": "code",
   "execution_count": 11,
   "metadata": {},
   "outputs": [],
   "source": [
    "def candle_patern_detector( *args , Open , High , Low , Close):\n",
    "    \"\"\" een tabe baraye barasi e olguuye candle mibashad- az jomle een candle ha mitavan be olguye hanging man , shooting star\n",
    "    , hammer va reverse hammer eshare kard.\n",
    "    \n",
    "    args - close ruse haye ghabl\n",
    "    Open - gheymate goshayesh\n",
    "    High - balatarin gheymat\n",
    "    Low - Payin tarin\n",
    "    Close - Gheymat payani \n",
    "    \"\"\"\n",
    "    if len(args) == 0:\n",
    "        if Close >= Open :\n",
    "            if ((Open - Low) >= 2*(Close - Open)) and ((High - Close) <= (Close - Open)):\n",
    "                print('candle hanging man ya hammer shenasayi shod')\n",
    "            elif ((High - Close) >= 2*(Close - Open)) and ((Open - Low) <= (Close - Open)):\n",
    "                    print('candle shooting star ya hammer makus shenasayi shod')\n",
    "        elif Close < Open :\n",
    "            if ((Close - Low) >= 2* (Open - Close)) and ((High - Open) <= (Open - Close)):\n",
    "                print('candle hanging man ya hammer  shenasayi shod')\n",
    "            elif ((High - Open) >= 2*(Open - Close)) and ((Close - Low) <= (Open - Close)):\n",
    "                print('candle shooting star ya hammer makus  shenasayi shod')\n",
    "        else:\n",
    "            print('candle khasii shensayi nashod')\n",
    "            \n",
    "            \n",
    "            \n",
    "            \n",
    "    else:\n",
    "        close_ruze_ghabl = args[0]\n",
    "        if Close > close_ruze_ghabl:\n",
    "            if Close >= Open:\n",
    "                if ((Open -Low) >= 2 * (Close - Open)) and ((High - Close) <= (Close - Open)):\n",
    "                    print('cnadle hanging man shensayi shod')\n",
    "                elif ((High - Close) >= 2 * (Close - Open)) and ((Open - Low) <= (Close - Open)):\n",
    "                    print('candle shooting star shenasayi shod')\n",
    "            elif Open > Close:\n",
    "                if ((Close - Low) >= 2*(Open - Close)) and ((High - Open) <= (Open - Close)):\n",
    "                    print('candle hanging man shensayi shod')\n",
    "                elif ((High - Open) >= 2*(Open - Close)) and ((Close - Low) <= (Open - Close)):\n",
    "                    print('candle shooting star shenasayi shod')\n",
    "                    \n",
    "        elif close_ruze_ghabl > Close:\n",
    "            if Close > Open:\n",
    "                if ((High - Close) >= 2* (Close -Open)) and ((Open - Low) <= (Close - Open)):\n",
    "                    print('candle hammer makus shensayi shod')\n",
    "                elif ((Open - Low) >= 2* (Close- Open)) and ((High - Close ) <= (Close - Open )):\n",
    "                    print('candle hammer shenasayi shod')\n",
    "                    \n",
    "            if Close < Open:\n",
    "                if ((High - Open) >= 2* (Open - Close)) and ((Close - Low) <= (Open - Close)):\n",
    "                    print('candle hammer makus shenasayi shod')\n",
    "                elif ((Close - Low) >= 2* (Open - Close)) and ((High - Open) <= (Open - Close)):\n",
    "                    print('candle hammer shenasayi shod')\n",
    "                \n",
    "        else:\n",
    "            print('candle khasii shensayi nashod')"
   ]
  },
  {
   "cell_type": "markdown",
   "metadata": {},
   "source": [
    "# Tamrin 9 "
   ]
  },
  {
   "cell_type": "markdown",
   "metadata": {},
   "source": [
    "تابعی بنویسید که کاربر تعداد دلخواهی عدد را به تابع بدهد و در خروجی آماره‌های توصیفی زیر نمایش داده شود\n",
    "\n",
    "Max\n",
    "Min\n",
    "Mean\n",
    "Variance\n",
    "Standard deviation \n",
    "\n",
    "همچنین در صورتی که کاربر، به جای عدد\n",
    "\n",
    "(int or float)\n",
    "\n",
    "ساختار داده دیگری را در ورودی وارد نماید، به کاربر پیغام خطا صادر شود\n",
    "\n",
    "همینطور دقت داشته باشید که کاربر حداقل دو عدد وارد نماید"
   ]
  },
  {
   "cell_type": "code",
   "execution_count": 9,
   "metadata": {},
   "outputs": [],
   "source": [
    "def Descriptive_statistics(a , b , *args):\n",
    "    flag = 0\n",
    "    primary_list = [a, b, *args]\n",
    "    for i in range(len(primary_list)):\n",
    "        if isinstance(primary_list[i] , (int , float)):\n",
    "            None\n",
    "        else:\n",
    "            flag = 1\n",
    "            print(\"lotfan vorudi a ra eslah va az jens int ya flot begozarid\")\n",
    "    if flag == 0:\n",
    "        Max_value = max(primary_list)\n",
    "        Min_value = min(primary_list)\n",
    "        mean_value = sum(primary_list) / len(primary_list)\n",
    "        step_1 = [x - mean_value for x in primary_list]\n",
    "        step_2 = [u**2 for u in step_1]\n",
    "        variance = sum(step_2) / len(primary_list)\n",
    "        standard_deviation = variance**0.5\n",
    "        return(Max_value , Min_value , mean_value , variance , standard_deviation)"
   ]
  },
  {
   "cell_type": "code",
   "execution_count": 19,
   "metadata": {},
   "outputs": [],
   "source": [
    "def aval_yab(a):\n",
    "    if a > 1:\n",
    "        for i in range(2 , a):\n",
    "            if a%i == 0:\n",
    "                print(a , 'morakab mibashad')\n",
    "                print(i , \"zarb dar\" , a//i ,\"hast\", a)\n",
    "                break\n",
    "        else:\n",
    "            print(a , \"aval mibashad\")\n",
    "                \n",
    "    else: \n",
    "        print(a , \"aval mibashad\")"
   ]
  },
  {
   "cell_type": "code",
   "execution_count": 20,
   "metadata": {},
   "outputs": [
    {
     "name": "stdout",
     "output_type": "stream",
     "text": [
      "8 morakab mibashad\n",
      "2 zarb dar 4 hast 8\n"
     ]
    }
   ],
   "source": [
    "aval_yab(8)"
   ]
  },
  {
   "cell_type": "code",
   "execution_count": null,
   "metadata": {},
   "outputs": [],
   "source": []
  }
 ],
 "metadata": {
  "kernelspec": {
   "display_name": "Python 3",
   "language": "python",
   "name": "python3"
  },
  "language_info": {
   "codemirror_mode": {
    "name": "ipython",
    "version": 3
   },
   "file_extension": ".py",
   "mimetype": "text/x-python",
   "name": "python",
   "nbconvert_exporter": "python",
   "pygments_lexer": "ipython3",
   "version": "3.8.8"
  }
 },
 "nbformat": 4,
 "nbformat_minor": 4
}
